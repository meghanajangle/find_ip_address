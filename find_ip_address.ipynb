{
 "cells": [
  {
   "cell_type": "code",
   "execution_count": 1,
   "id": "90c3abc9",
   "metadata": {},
   "outputs": [
    {
     "name": "stdout",
     "output_type": "stream",
     "text": [
      "Your Hostname is: SUSHANTJANG1164\n",
      "Your Ip Address is: 10.211.55.4\n",
      "The IP Address of github.com is: 140.82.113.3\n"
     ]
    }
   ],
   "source": [
    "#''\n",
    "#Python Program to Find IP Address\n",
    "#'''\n",
    "\n",
    "# Import the necessary module!\n",
    "import socket as s \n",
    "\n",
    "# Get my hostname\n",
    "my_hostname = s.gethostname()\n",
    "# Display my hostname\n",
    "print(\"Your Hostname is: \" + my_hostname)\n",
    "\n",
    "# Get my IP\n",
    "my_ip = s.gethostbyname(my_hostname)\n",
    "# Display my IP \n",
    "print(\"Your Ip Address is: \" + my_ip)\n",
    "\n",
    "# Set the hostname\n",
    "host = \"github.com\"\n",
    "# Fetch the IP\n",
    "ip = s.gethostbyname(host)\n",
    "\n",
    "# Display the IP\n",
    "print(\"The IP Address of \" + host + \" is: \"  + ip)"
   ]
  },
  {
   "cell_type": "code",
   "execution_count": null,
   "id": "f175559c",
   "metadata": {},
   "outputs": [],
   "source": []
  }
 ],
 "metadata": {
  "kernelspec": {
   "display_name": "Python 3 (ipykernel)",
   "language": "python",
   "name": "python3"
  },
  "language_info": {
   "codemirror_mode": {
    "name": "ipython",
    "version": 3
   },
   "file_extension": ".py",
   "mimetype": "text/x-python",
   "name": "python",
   "nbconvert_exporter": "python",
   "pygments_lexer": "ipython3",
   "version": "3.9.12"
  }
 },
 "nbformat": 4,
 "nbformat_minor": 5
}
